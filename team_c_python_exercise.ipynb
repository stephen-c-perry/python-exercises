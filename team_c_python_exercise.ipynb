{
 "cells": [
  {
   "cell_type": "markdown",
   "metadata": {},
   "source": [
    "Scenario\n",
    "Your team will create a program to determine the number of bills and coins to provide as change for a transaction.\n",
    "\n",
    "A user will input the price of a transaction and the money supplied.\n",
    "\n",
    "Return the total number of bills and coins needed to provide change for the transaction.\n",
    "\n",
    "Example\n",
    "A $12.43 bill is paid for with a 20 dollar bill.\n",
    "\n",
    "The change due is $7.57 and the bills and coins needed are:\n",
    "\n",
    "1 - 5 dollar bill 2 - 1 dollar bills 2 - quarters 1 - nickel 2 - pennies\n",
    "\n",
    "Notes\n",
    "Consider how you will present options to the user\n",
    "Consider how you will ensure the fewest number of bills and coins are issued.\n",
    "Extensions\n",
    "Create an option to account for a lack of bills or coins\n",
    "How will the program handle an instance where quarters are not available?\n"
   ]
  },
  {
   "cell_type": "code",
   "execution_count": 3,
   "metadata": {},
   "outputs": [
    {
     "ename": "SyntaxError",
     "evalue": "invalid syntax (898969236.py, line 29)",
     "output_type": "error",
     "traceback": [
      "\u001b[0;36m  Cell \u001b[0;32mIn [3], line 29\u001b[0;36m\u001b[0m\n\u001b[0;31m    print(n \"twenty dollar bills\" )\u001b[0m\n\u001b[0m            ^\u001b[0m\n\u001b[0;31mSyntaxError\u001b[0m\u001b[0;31m:\u001b[0m invalid syntax\n"
     ]
    }
   ],
   "source": [
    "# user input price and the money supplied\n",
    "\n",
    "price = input(\"What is your total? \")\n",
    "\n",
    "print('When prompted, enter the number of bills/coins you are using to pay: ')\n",
    "\n",
    "#bills\n",
    "# num_100 = int(input(\"How many $100 bills? \"))\n",
    "# num_50 = int(input(\"How many $50 bills? \"))\n",
    "num_20 = int(input(\"How many $20 bills? \"))\n",
    "num_10 = int(input(\"How many $10 bills? \"))\n",
    "num_5 = int(input(\"How many $5 bills? \"))\n",
    "num_1 = int(input(\"How many $1 bills? \"))\n",
    "\n",
    "#coins\n",
    "\n",
    "# maybe ask user if they are using coins before asking the rest of the questions\n",
    "\n",
    "num_quarters = int(input(\"How many quarters? \"))\n",
    "num_dimes = int(input(\"How many dimes? \"))\n",
    "num_nickles = int(input(\"How many nickles \"))\n",
    "num_pennies  = int(input(\"How many pennies? \"))\n",
    "\n",
    "bills = [num_20, num_10, num_5, num_1]\n",
    "coins = [num_quarters, num_dimes, num_nickles, num_pennies]\n",
    "\n",
    "for n in bills:\n",
    "    if bills[0] > 1:\n",
    "        print(n \"twenty dollar bills\" )\n",
    "    elif bills[0] == 1:\n",
    "        print(n \"twenty dollar bill\")\n",
    "\n",
    "    if bills[1] > 1:\n",
    "        print(n \"ten dollar bills\" )\n",
    "    elif bills[1] == 1:\n",
    "        print(n \"ten dollar bill\")\n",
    "    \n",
    "    if bills[2] > 1:\n",
    "        print(n \"five dollar bills\" )\n",
    "    elif bills[2] == 1:\n",
    "        print(n \"five dollar bill\")\n",
    "\n",
    "    if bills[3] > 1:\n",
    "        print(n \"one dollar bills\" )\n",
    "    elif bills[3] == 1:\n",
    "        print(n \"one dollar bill\")\n",
    "\n",
    "\n",
    "\n",
    " \n",
    "\n",
    "\n",
    "\n",
    "\n"
   ]
  },
  {
   "cell_type": "code",
   "execution_count": null,
   "metadata": {},
   "outputs": [],
   "source": []
  }
 ],
 "metadata": {
  "kernelspec": {
   "display_name": "Python 3.9.6 64-bit",
   "language": "python",
   "name": "python3"
  },
  "language_info": {
   "codemirror_mode": {
    "name": "ipython",
    "version": 3
   },
   "file_extension": ".py",
   "mimetype": "text/x-python",
   "name": "python",
   "nbconvert_exporter": "python",
   "pygments_lexer": "ipython3",
   "version": "3.9.6"
  },
  "orig_nbformat": 4,
  "vscode": {
   "interpreter": {
    "hash": "31f2aee4e71d21fbe5cf8b01ff0e069b9275f58929596ceb00d14d90e3e16cd6"
   }
  }
 },
 "nbformat": 4,
 "nbformat_minor": 2
}
