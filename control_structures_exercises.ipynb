{
 "cells": [
  {
   "cell_type": "markdown",
   "metadata": {},
   "source": []
  },
  {
   "cell_type": "markdown",
   "metadata": {},
   "source": [
    "Conditional Basics\n",
    "\n",
    "prompt the user for a day of the week, print out whether the day is Monday or not\n",
    "\n",
    "prompt the user for a day of the week, print out whether the day is a weekday or a weekend\n",
    "\n",
    "create variables and make up values for\n",
    "\n",
    "the number of hours worked in one week\n",
    "the hourly rate\n",
    "how much the week's paycheck will be\n",
    "write the python code that calculates the weekly paycheck. You get paid time and a half if you work more than 40 hours"
   ]
  },
  {
   "cell_type": "code",
   "execution_count": 3,
   "metadata": {},
   "outputs": [
    {
     "name": "stdout",
     "output_type": "stream",
     "text": [
      "Today is Monday\n"
     ]
    }
   ],
   "source": [
    "# prompt the user for a day of the week, print out whether the day is Monday or not\n",
    "\n",
    "day_of_the_week  = input(\"What day is today? \")\n",
    "\n",
    "if day_of_the_week == 'Monday':\n",
    "    print('Today is Monday')\n",
    "else:\n",
    "    print('Today is not Monday')\n",
    "\n",
    "\n",
    "\n",
    "\n",
    "\n",
    "\n"
   ]
  },
  {
   "cell_type": "code",
   "execution_count": 5,
   "metadata": {},
   "outputs": [
    {
     "name": "stdout",
     "output_type": "stream",
     "text": [
      "This is the weekend\n"
     ]
    }
   ],
   "source": [
    "# prompt the user for a day of the week, print out whether the day is a weekday or a weekend\n",
    "is_weekday = ['Monday', 'Tuesday', 'Wednesday', 'Thursday', 'Friday']\n",
    "\n",
    "day_of_the_week  = input(\"What day is today? \")\n",
    "\n",
    "if day_of_the_week in is_weekday:\n",
    "    print('Today is a weekday')\n",
    "else:\n",
    "    print('This is the weekend')\n"
   ]
  },
  {
   "cell_type": "code",
   "execution_count": 11,
   "metadata": {},
   "outputs": [
    {
     "data": {
      "text/plain": [
       "30.0"
      ]
     },
     "execution_count": 11,
     "metadata": {},
     "output_type": "execute_result"
    }
   ],
   "source": [
    "# create variables and make up values for\n",
    "\n",
    "# the number of hours worked in one week\n",
    "# the hourly rate\n",
    "# how much the week's paycheck will be\n",
    "# write the python code that calculates the weekly paycheck. You get paid time and a half if you work more than 40 hours\n",
    "\n",
    "hours_worked_in_week = int(input('How many hours did you work this week? '))\n",
    "hourly_rate = 20\n",
    "this_weeks_paycheck = hours_worked_in_week * hourly_rate\n",
    "\n",
    "if hours_worked_in_week > 40:\n",
    "    hourly_rate *= 1.5\n",
    "\n",
    "hourly_rate\n",
    "\n",
    "\n"
   ]
  },
  {
   "cell_type": "code",
   "execution_count": 8,
   "metadata": {},
   "outputs": [
    {
     "data": {
      "text/plain": [
       "800"
      ]
     },
     "execution_count": 8,
     "metadata": {},
     "output_type": "execute_result"
    }
   ],
   "source": [
    "\n"
   ]
  },
  {
   "cell_type": "code",
   "execution_count": null,
   "metadata": {},
   "outputs": [],
   "source": []
  }
 ],
 "metadata": {
  "kernelspec": {
   "display_name": "Python 3.9.6 64-bit",
   "language": "python",
   "name": "python3"
  },
  "language_info": {
   "codemirror_mode": {
    "name": "ipython",
    "version": 3
   },
   "file_extension": ".py",
   "mimetype": "text/x-python",
   "name": "python",
   "nbconvert_exporter": "python",
   "pygments_lexer": "ipython3",
   "version": "3.9.6"
  },
  "orig_nbformat": 4,
  "vscode": {
   "interpreter": {
    "hash": "31f2aee4e71d21fbe5cf8b01ff0e069b9275f58929596ceb00d14d90e3e16cd6"
   }
  }
 },
 "nbformat": 4,
 "nbformat_minor": 2
}
